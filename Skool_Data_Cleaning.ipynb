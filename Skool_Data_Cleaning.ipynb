{
 "cells": [
  {
   "cell_type": "code",
   "execution_count": 134,
   "id": "a1d25d93-36ee-4449-a81f-d6bc70b4f043",
   "metadata": {},
   "outputs": [],
   "source": [
    "import pandas as pd\n",
    "import numpy as np"
   ]
  },
  {
   "cell_type": "code",
   "execution_count": 135,
   "id": "98af218c-d8df-4689-84e3-7395a9be82ef",
   "metadata": {},
   "outputs": [],
   "source": [
    "df = pd.read_json(\"skool_full_scrape.json\")"
   ]
  },
  {
   "cell_type": "code",
   "execution_count": 136,
   "id": "8c38e8be-9d8c-444a-b49c-19a741769b17",
   "metadata": {},
   "outputs": [
    {
     "data": {
      "text/html": [
       "<div>\n",
       "<style scoped>\n",
       "    .dataframe tbody tr th:only-of-type {\n",
       "        vertical-align: middle;\n",
       "    }\n",
       "\n",
       "    .dataframe tbody tr th {\n",
       "        vertical-align: top;\n",
       "    }\n",
       "\n",
       "    .dataframe thead th {\n",
       "        text-align: right;\n",
       "    }\n",
       "</style>\n",
       "<table border=\"1\" class=\"dataframe\">\n",
       "  <thead>\n",
       "    <tr style=\"text-align: right;\">\n",
       "      <th></th>\n",
       "      <th>author_avatar_src</th>\n",
       "      <th>author_name</th>\n",
       "      <th>author_profile_link</th>\n",
       "      <th>comments</th>\n",
       "      <th>comments_count</th>\n",
       "      <th>likes_count</th>\n",
       "      <th>post_content_snippet</th>\n",
       "      <th>post_link</th>\n",
       "      <th>post_title</th>\n",
       "    </tr>\n",
       "  </thead>\n",
       "  <tbody>\n",
       "    <tr>\n",
       "      <th>0</th>\n",
       "      <td>https://assets.skool.com/f/c352b39b57e74602bbe...</td>\n",
       "      <td>Maximus Meadowcroft</td>\n",
       "      <td>https://www.skool.com/@maximus?g=coder</td>\n",
       "      <td>[]</td>\n",
       "      <td>8</td>\n",
       "      <td>23</td>\n",
       "      <td>💡 Get Started: ✅ Introduce Yourself: Share you...</td>\n",
       "      <td>https://www.skool.com/coder/welcome-to-the-com...</td>\n",
       "      <td>🚀 Welcome to the Python Developers Community!</td>\n",
       "    </tr>\n",
       "    <tr>\n",
       "      <th>1</th>\n",
       "      <td>https://assets.skool.com/f/35ff3f4d9c7444fd825...</td>\n",
       "      <td>Mahmoud Sharqwi</td>\n",
       "      <td>https://www.skool.com/@mahmoud-sharqwi-7896?g=...</td>\n",
       "      <td>[]</td>\n",
       "      <td>1</td>\n",
       "      <td>2</td>\n",
       "      <td>Hello I'm new here, I hope we get will But I h...</td>\n",
       "      <td>https://www.skool.com/coder/what-do-i-benefit-...</td>\n",
       "      <td>What do I benefit from Python?</td>\n",
       "    </tr>\n",
       "    <tr>\n",
       "      <th>2</th>\n",
       "      <td>https://assets.skool.com/f/f266d270a3cf43b782b...</td>\n",
       "      <td>Vyom Agarwal</td>\n",
       "      <td>https://www.skool.com/@vyom-agarwal-6982?g=coder</td>\n",
       "      <td>[]</td>\n",
       "      <td>1</td>\n",
       "      <td>2</td>\n",
       "      <td>Hello everybody, I am new here from India, kno...</td>\n",
       "      <td>https://www.skool.com/coder/introduction-f5057e5f</td>\n",
       "      <td>Introduction</td>\n",
       "    </tr>\n",
       "    <tr>\n",
       "      <th>3</th>\n",
       "      <td>https://assets.skool.com/f/fc6de2bb01d44dc6b0e...</td>\n",
       "      <td>Daniel Belay</td>\n",
       "      <td>https://www.skool.com/@daniel-belay-6028?g=coder</td>\n",
       "      <td>[]</td>\n",
       "      <td>5</td>\n",
       "      <td>3</td>\n",
       "      <td>I want to learn python, and if you want to hir...</td>\n",
       "      <td>https://www.skool.com/coder/help-3</td>\n",
       "      <td>Aspiring Python Developer | Ready to Learn &amp; W...</td>\n",
       "    </tr>\n",
       "    <tr>\n",
       "      <th>4</th>\n",
       "      <td>https://assets.skool.com/f/7eb5ec684aca4325884...</td>\n",
       "      <td>Zainulabidin Shaikh</td>\n",
       "      <td>https://www.skool.com/@zainulabidin-shaikh-712...</td>\n",
       "      <td>[]</td>\n",
       "      <td>4</td>\n",
       "      <td>5</td>\n",
       "      <td>Hey everyone! Does anyone here know about quan...</td>\n",
       "      <td>https://www.skool.com/coder/quant-research-and...</td>\n",
       "      <td>Quant Research and Finance</td>\n",
       "    </tr>\n",
       "  </tbody>\n",
       "</table>\n",
       "</div>"
      ],
      "text/plain": [
       "                                   author_avatar_src          author_name  \\\n",
       "0  https://assets.skool.com/f/c352b39b57e74602bbe...  Maximus Meadowcroft   \n",
       "1  https://assets.skool.com/f/35ff3f4d9c7444fd825...      Mahmoud Sharqwi   \n",
       "2  https://assets.skool.com/f/f266d270a3cf43b782b...         Vyom Agarwal   \n",
       "3  https://assets.skool.com/f/fc6de2bb01d44dc6b0e...         Daniel Belay   \n",
       "4  https://assets.skool.com/f/7eb5ec684aca4325884...  Zainulabidin Shaikh   \n",
       "\n",
       "                                 author_profile_link comments  comments_count  \\\n",
       "0             https://www.skool.com/@maximus?g=coder       []               8   \n",
       "1  https://www.skool.com/@mahmoud-sharqwi-7896?g=...       []               1   \n",
       "2   https://www.skool.com/@vyom-agarwal-6982?g=coder       []               1   \n",
       "3   https://www.skool.com/@daniel-belay-6028?g=coder       []               5   \n",
       "4  https://www.skool.com/@zainulabidin-shaikh-712...       []               4   \n",
       "\n",
       "   likes_count                               post_content_snippet  \\\n",
       "0           23  💡 Get Started: ✅ Introduce Yourself: Share you...   \n",
       "1            2  Hello I'm new here, I hope we get will But I h...   \n",
       "2            2  Hello everybody, I am new here from India, kno...   \n",
       "3            3  I want to learn python, and if you want to hir...   \n",
       "4            5  Hey everyone! Does anyone here know about quan...   \n",
       "\n",
       "                                           post_link  \\\n",
       "0  https://www.skool.com/coder/welcome-to-the-com...   \n",
       "1  https://www.skool.com/coder/what-do-i-benefit-...   \n",
       "2  https://www.skool.com/coder/introduction-f5057e5f   \n",
       "3                 https://www.skool.com/coder/help-3   \n",
       "4  https://www.skool.com/coder/quant-research-and...   \n",
       "\n",
       "                                          post_title  \n",
       "0      🚀 Welcome to the Python Developers Community!  \n",
       "1                     What do I benefit from Python?  \n",
       "2                                       Introduction  \n",
       "3  Aspiring Python Developer | Ready to Learn & W...  \n",
       "4                         Quant Research and Finance  "
      ]
     },
     "execution_count": 136,
     "metadata": {},
     "output_type": "execute_result"
    }
   ],
   "source": [
    "df.head()"
   ]
  },
  {
   "cell_type": "code",
   "execution_count": 137,
   "id": "03b3c4a1-a10b-481b-8666-34e55da5c0d2",
   "metadata": {},
   "outputs": [
    {
     "data": {
      "text/plain": [
       "Index(['author_avatar_src', 'author_name', 'author_profile_link', 'comments',\n",
       "       'comments_count', 'likes_count', 'post_content_snippet', 'post_link',\n",
       "       'post_title'],\n",
       "      dtype='object')"
      ]
     },
     "execution_count": 137,
     "metadata": {},
     "output_type": "execute_result"
    }
   ],
   "source": [
    "df.columns"
   ]
  },
  {
   "cell_type": "code",
   "execution_count": 138,
   "id": "6db9ab27-72b3-4d36-b3ee-7fca6e32901e",
   "metadata": {},
   "outputs": [
    {
     "data": {
      "text/plain": [
       "(293, 9)"
      ]
     },
     "execution_count": 138,
     "metadata": {},
     "output_type": "execute_result"
    }
   ],
   "source": [
    "df.shape"
   ]
  },
  {
   "cell_type": "code",
   "execution_count": 139,
   "id": "7beb03c9-0eff-4c7d-8677-004a61e9c4a3",
   "metadata": {},
   "outputs": [
    {
     "data": {
      "text/plain": [
       "<bound method Series.unique of 0                                                     []\n",
       "1                                                     []\n",
       "2                                                     []\n",
       "3                                                     []\n",
       "4                                                     []\n",
       "                             ...                        \n",
       "288                                                   []\n",
       "289    [{'avatar_src': 'https://assets.skool.com/f/80...\n",
       "290                                                   []\n",
       "291                                                   []\n",
       "292                                                   []\n",
       "Name: comments, Length: 293, dtype: object>"
      ]
     },
     "execution_count": 139,
     "metadata": {},
     "output_type": "execute_result"
    }
   ],
   "source": [
    "df['comments'].unique"
   ]
  },
  {
   "cell_type": "code",
   "execution_count": 140,
   "id": "64e79f4d-0502-4d20-8f0c-fa021629af7c",
   "metadata": {},
   "outputs": [],
   "source": [
    "dt = df.drop(columns=['author_avatar_src','author_profile_link','post_link'])"
   ]
  },
  {
   "cell_type": "code",
   "execution_count": 141,
   "id": "b6ac2a84-67bb-4ad0-b29c-919fdc7f4879",
   "metadata": {},
   "outputs": [
    {
     "data": {
      "text/html": [
       "<div>\n",
       "<style scoped>\n",
       "    .dataframe tbody tr th:only-of-type {\n",
       "        vertical-align: middle;\n",
       "    }\n",
       "\n",
       "    .dataframe tbody tr th {\n",
       "        vertical-align: top;\n",
       "    }\n",
       "\n",
       "    .dataframe thead th {\n",
       "        text-align: right;\n",
       "    }\n",
       "</style>\n",
       "<table border=\"1\" class=\"dataframe\">\n",
       "  <thead>\n",
       "    <tr style=\"text-align: right;\">\n",
       "      <th></th>\n",
       "      <th>author_name</th>\n",
       "      <th>comments</th>\n",
       "      <th>comments_count</th>\n",
       "      <th>likes_count</th>\n",
       "      <th>post_content_snippet</th>\n",
       "      <th>post_title</th>\n",
       "    </tr>\n",
       "  </thead>\n",
       "  <tbody>\n",
       "    <tr>\n",
       "      <th>0</th>\n",
       "      <td>Maximus Meadowcroft</td>\n",
       "      <td>[]</td>\n",
       "      <td>8</td>\n",
       "      <td>23</td>\n",
       "      <td>💡 Get Started: ✅ Introduce Yourself: Share you...</td>\n",
       "      <td>🚀 Welcome to the Python Developers Community!</td>\n",
       "    </tr>\n",
       "    <tr>\n",
       "      <th>1</th>\n",
       "      <td>Mahmoud Sharqwi</td>\n",
       "      <td>[]</td>\n",
       "      <td>1</td>\n",
       "      <td>2</td>\n",
       "      <td>Hello I'm new here, I hope we get will But I h...</td>\n",
       "      <td>What do I benefit from Python?</td>\n",
       "    </tr>\n",
       "    <tr>\n",
       "      <th>2</th>\n",
       "      <td>Vyom Agarwal</td>\n",
       "      <td>[]</td>\n",
       "      <td>1</td>\n",
       "      <td>2</td>\n",
       "      <td>Hello everybody, I am new here from India, kno...</td>\n",
       "      <td>Introduction</td>\n",
       "    </tr>\n",
       "    <tr>\n",
       "      <th>3</th>\n",
       "      <td>Daniel Belay</td>\n",
       "      <td>[]</td>\n",
       "      <td>5</td>\n",
       "      <td>3</td>\n",
       "      <td>I want to learn python, and if you want to hir...</td>\n",
       "      <td>Aspiring Python Developer | Ready to Learn &amp; W...</td>\n",
       "    </tr>\n",
       "    <tr>\n",
       "      <th>4</th>\n",
       "      <td>Zainulabidin Shaikh</td>\n",
       "      <td>[]</td>\n",
       "      <td>4</td>\n",
       "      <td>5</td>\n",
       "      <td>Hey everyone! Does anyone here know about quan...</td>\n",
       "      <td>Quant Research and Finance</td>\n",
       "    </tr>\n",
       "  </tbody>\n",
       "</table>\n",
       "</div>"
      ],
      "text/plain": [
       "           author_name comments  comments_count  likes_count  \\\n",
       "0  Maximus Meadowcroft       []               8           23   \n",
       "1      Mahmoud Sharqwi       []               1            2   \n",
       "2         Vyom Agarwal       []               1            2   \n",
       "3         Daniel Belay       []               5            3   \n",
       "4  Zainulabidin Shaikh       []               4            5   \n",
       "\n",
       "                                post_content_snippet  \\\n",
       "0  💡 Get Started: ✅ Introduce Yourself: Share you...   \n",
       "1  Hello I'm new here, I hope we get will But I h...   \n",
       "2  Hello everybody, I am new here from India, kno...   \n",
       "3  I want to learn python, and if you want to hir...   \n",
       "4  Hey everyone! Does anyone here know about quan...   \n",
       "\n",
       "                                          post_title  \n",
       "0      🚀 Welcome to the Python Developers Community!  \n",
       "1                     What do I benefit from Python?  \n",
       "2                                       Introduction  \n",
       "3  Aspiring Python Developer | Ready to Learn & W...  \n",
       "4                         Quant Research and Finance  "
      ]
     },
     "execution_count": 141,
     "metadata": {},
     "output_type": "execute_result"
    }
   ],
   "source": [
    "dt.head()"
   ]
  },
  {
   "cell_type": "code",
   "execution_count": 142,
   "id": "73c34b37-b535-449e-b1ec-47e36efa5cda",
   "metadata": {},
   "outputs": [
    {
     "name": "stdout",
     "output_type": "stream",
     "text": [
      "<class 'pandas.core.frame.DataFrame'>\n",
      "RangeIndex: 293 entries, 0 to 292\n",
      "Data columns (total 6 columns):\n",
      " #   Column                Non-Null Count  Dtype \n",
      "---  ------                --------------  ----- \n",
      " 0   author_name           293 non-null    object\n",
      " 1   comments              293 non-null    object\n",
      " 2   comments_count        293 non-null    int64 \n",
      " 3   likes_count           293 non-null    int64 \n",
      " 4   post_content_snippet  293 non-null    object\n",
      " 5   post_title            293 non-null    object\n",
      "dtypes: int64(2), object(4)\n",
      "memory usage: 13.9+ KB\n"
     ]
    }
   ],
   "source": [
    "dt.info()"
   ]
  },
  {
   "cell_type": "code",
   "execution_count": 143,
   "id": "fa3ddb94-79a4-4fda-8bd6-255c5bb9e15c",
   "metadata": {},
   "outputs": [
    {
     "data": {
      "text/plain": [
       "(293, 6)"
      ]
     },
     "execution_count": 143,
     "metadata": {},
     "output_type": "execute_result"
    }
   ],
   "source": [
    "dt.shape"
   ]
  },
  {
   "cell_type": "code",
   "execution_count": 144,
   "id": "0048f943-a285-44fa-9680-533acc66cddd",
   "metadata": {},
   "outputs": [],
   "source": [
    "authors = dt.author_name.values.tolist()"
   ]
  },
  {
   "cell_type": "code",
   "execution_count": 145,
   "id": "a119664a-a0e5-483d-a6ec-1b29559df127",
   "metadata": {},
   "outputs": [
    {
     "name": "stdout",
     "output_type": "stream",
     "text": [
      "85\n"
     ]
    }
   ],
   "source": [
    "auth = []\n",
    "for author in authors:\n",
    "    if author not in auth:\n",
    "        auth.append(author)\n",
    "# print(auth)\n",
    "auth_sum = 0\n",
    "for i in auth:\n",
    "    auth_sum=auth_sum+1\n",
    "print(auth_sum)"
   ]
  },
  {
   "cell_type": "code",
   "execution_count": 146,
   "id": "dabfce1d-03ce-4241-b614-143d28d2b0d4",
   "metadata": {},
   "outputs": [
    {
     "data": {
      "text/plain": [
       "85"
      ]
     },
     "execution_count": 146,
     "metadata": {},
     "output_type": "execute_result"
    }
   ],
   "source": [
    "pd.Series(auth).nunique()"
   ]
  },
  {
   "cell_type": "code",
   "execution_count": 147,
   "id": "7009d24c-595f-4eb0-8340-183bdb2d5122",
   "metadata": {},
   "outputs": [],
   "source": [
    "import seaborn as sns \n",
    "import matplotlib.pyplot as plt \n",
    "%matplotlib inline"
   ]
  },
  {
   "cell_type": "code",
   "execution_count": 148,
   "id": "413103b5-dd9d-4540-93f3-f18f3822a812",
   "metadata": {},
   "outputs": [
    {
     "data": {
      "text/html": [
       "<div>\n",
       "<style scoped>\n",
       "    .dataframe tbody tr th:only-of-type {\n",
       "        vertical-align: middle;\n",
       "    }\n",
       "\n",
       "    .dataframe tbody tr th {\n",
       "        vertical-align: top;\n",
       "    }\n",
       "\n",
       "    .dataframe thead th {\n",
       "        text-align: right;\n",
       "    }\n",
       "</style>\n",
       "<table border=\"1\" class=\"dataframe\">\n",
       "  <thead>\n",
       "    <tr style=\"text-align: right;\">\n",
       "      <th></th>\n",
       "      <th>author_avatar_src</th>\n",
       "      <th>author_name</th>\n",
       "      <th>author_profile_link</th>\n",
       "      <th>comments</th>\n",
       "      <th>comments_count</th>\n",
       "      <th>likes_count</th>\n",
       "      <th>post_content_snippet</th>\n",
       "      <th>post_link</th>\n",
       "      <th>post_title</th>\n",
       "    </tr>\n",
       "  </thead>\n",
       "  <tbody>\n",
       "    <tr>\n",
       "      <th>0</th>\n",
       "      <td>https://assets.skool.com/f/c352b39b57e74602bbe...</td>\n",
       "      <td>Maximus Meadowcroft</td>\n",
       "      <td>https://www.skool.com/@maximus?g=coder</td>\n",
       "      <td>[]</td>\n",
       "      <td>8</td>\n",
       "      <td>23</td>\n",
       "      <td>💡 Get Started: ✅ Introduce Yourself: Share you...</td>\n",
       "      <td>https://www.skool.com/coder/welcome-to-the-com...</td>\n",
       "      <td>🚀 Welcome to the Python Developers Community!</td>\n",
       "    </tr>\n",
       "    <tr>\n",
       "      <th>1</th>\n",
       "      <td>https://assets.skool.com/f/35ff3f4d9c7444fd825...</td>\n",
       "      <td>Mahmoud Sharqwi</td>\n",
       "      <td>https://www.skool.com/@mahmoud-sharqwi-7896?g=...</td>\n",
       "      <td>[]</td>\n",
       "      <td>1</td>\n",
       "      <td>2</td>\n",
       "      <td>Hello I'm new here, I hope we get will But I h...</td>\n",
       "      <td>https://www.skool.com/coder/what-do-i-benefit-...</td>\n",
       "      <td>What do I benefit from Python?</td>\n",
       "    </tr>\n",
       "    <tr>\n",
       "      <th>2</th>\n",
       "      <td>https://assets.skool.com/f/f266d270a3cf43b782b...</td>\n",
       "      <td>Vyom Agarwal</td>\n",
       "      <td>https://www.skool.com/@vyom-agarwal-6982?g=coder</td>\n",
       "      <td>[]</td>\n",
       "      <td>1</td>\n",
       "      <td>2</td>\n",
       "      <td>Hello everybody, I am new here from India, kno...</td>\n",
       "      <td>https://www.skool.com/coder/introduction-f5057e5f</td>\n",
       "      <td>Introduction</td>\n",
       "    </tr>\n",
       "    <tr>\n",
       "      <th>3</th>\n",
       "      <td>https://assets.skool.com/f/fc6de2bb01d44dc6b0e...</td>\n",
       "      <td>Daniel Belay</td>\n",
       "      <td>https://www.skool.com/@daniel-belay-6028?g=coder</td>\n",
       "      <td>[]</td>\n",
       "      <td>5</td>\n",
       "      <td>3</td>\n",
       "      <td>I want to learn python, and if you want to hir...</td>\n",
       "      <td>https://www.skool.com/coder/help-3</td>\n",
       "      <td>Aspiring Python Developer | Ready to Learn &amp; W...</td>\n",
       "    </tr>\n",
       "    <tr>\n",
       "      <th>4</th>\n",
       "      <td>https://assets.skool.com/f/7eb5ec684aca4325884...</td>\n",
       "      <td>Zainulabidin Shaikh</td>\n",
       "      <td>https://www.skool.com/@zainulabidin-shaikh-712...</td>\n",
       "      <td>[]</td>\n",
       "      <td>4</td>\n",
       "      <td>5</td>\n",
       "      <td>Hey everyone! Does anyone here know about quan...</td>\n",
       "      <td>https://www.skool.com/coder/quant-research-and...</td>\n",
       "      <td>Quant Research and Finance</td>\n",
       "    </tr>\n",
       "  </tbody>\n",
       "</table>\n",
       "</div>"
      ],
      "text/plain": [
       "                                   author_avatar_src          author_name  \\\n",
       "0  https://assets.skool.com/f/c352b39b57e74602bbe...  Maximus Meadowcroft   \n",
       "1  https://assets.skool.com/f/35ff3f4d9c7444fd825...      Mahmoud Sharqwi   \n",
       "2  https://assets.skool.com/f/f266d270a3cf43b782b...         Vyom Agarwal   \n",
       "3  https://assets.skool.com/f/fc6de2bb01d44dc6b0e...         Daniel Belay   \n",
       "4  https://assets.skool.com/f/7eb5ec684aca4325884...  Zainulabidin Shaikh   \n",
       "\n",
       "                                 author_profile_link comments  comments_count  \\\n",
       "0             https://www.skool.com/@maximus?g=coder       []               8   \n",
       "1  https://www.skool.com/@mahmoud-sharqwi-7896?g=...       []               1   \n",
       "2   https://www.skool.com/@vyom-agarwal-6982?g=coder       []               1   \n",
       "3   https://www.skool.com/@daniel-belay-6028?g=coder       []               5   \n",
       "4  https://www.skool.com/@zainulabidin-shaikh-712...       []               4   \n",
       "\n",
       "   likes_count                               post_content_snippet  \\\n",
       "0           23  💡 Get Started: ✅ Introduce Yourself: Share you...   \n",
       "1            2  Hello I'm new here, I hope we get will But I h...   \n",
       "2            2  Hello everybody, I am new here from India, kno...   \n",
       "3            3  I want to learn python, and if you want to hir...   \n",
       "4            5  Hey everyone! Does anyone here know about quan...   \n",
       "\n",
       "                                           post_link  \\\n",
       "0  https://www.skool.com/coder/welcome-to-the-com...   \n",
       "1  https://www.skool.com/coder/what-do-i-benefit-...   \n",
       "2  https://www.skool.com/coder/introduction-f5057e5f   \n",
       "3                 https://www.skool.com/coder/help-3   \n",
       "4  https://www.skool.com/coder/quant-research-and...   \n",
       "\n",
       "                                          post_title  \n",
       "0      🚀 Welcome to the Python Developers Community!  \n",
       "1                     What do I benefit from Python?  \n",
       "2                                       Introduction  \n",
       "3  Aspiring Python Developer | Ready to Learn & W...  \n",
       "4                         Quant Research and Finance  "
      ]
     },
     "execution_count": 148,
     "metadata": {},
     "output_type": "execute_result"
    }
   ],
   "source": [
    "df.head()"
   ]
  },
  {
   "cell_type": "code",
   "execution_count": 149,
   "id": "29e6af72-5da2-4bbe-9b7f-1063aec7c8b1",
   "metadata": {},
   "outputs": [],
   "source": [
    "df.drop(columns=['author_avatar_src','author_name','author_profile_link','post_link'],inplace=True)"
   ]
  },
  {
   "cell_type": "code",
   "execution_count": 150,
   "id": "d1d2195d-7950-48ec-a3b3-1fe9df699d24",
   "metadata": {},
   "outputs": [
    {
     "data": {
      "text/html": [
       "<div>\n",
       "<style scoped>\n",
       "    .dataframe tbody tr th:only-of-type {\n",
       "        vertical-align: middle;\n",
       "    }\n",
       "\n",
       "    .dataframe tbody tr th {\n",
       "        vertical-align: top;\n",
       "    }\n",
       "\n",
       "    .dataframe thead th {\n",
       "        text-align: right;\n",
       "    }\n",
       "</style>\n",
       "<table border=\"1\" class=\"dataframe\">\n",
       "  <thead>\n",
       "    <tr style=\"text-align: right;\">\n",
       "      <th></th>\n",
       "      <th>comments</th>\n",
       "      <th>comments_count</th>\n",
       "      <th>likes_count</th>\n",
       "      <th>post_content_snippet</th>\n",
       "      <th>post_title</th>\n",
       "    </tr>\n",
       "  </thead>\n",
       "  <tbody>\n",
       "    <tr>\n",
       "      <th>121</th>\n",
       "      <td>[]</td>\n",
       "      <td>2</td>\n",
       "      <td>11</td>\n",
       "      <td>Hey everyone! This morning I uploaded another ...</td>\n",
       "      <td>🚀 3 Python Automation Scripts That Save Hours!</td>\n",
       "    </tr>\n",
       "    <tr>\n",
       "      <th>175</th>\n",
       "      <td>[]</td>\n",
       "      <td>3</td>\n",
       "      <td>2</td>\n",
       "      <td>Hey everyone, I'm new here. I'm new to Python ...</td>\n",
       "      <td>Need Help: Struggling with Dependency Errors i...</td>\n",
       "    </tr>\n",
       "    <tr>\n",
       "      <th>128</th>\n",
       "      <td>[]</td>\n",
       "      <td>0</td>\n",
       "      <td>7</td>\n",
       "      <td>Link for the original announcement: Link Hello...</td>\n",
       "      <td>Current Challenge: Deep Seek Python Challenge</td>\n",
       "    </tr>\n",
       "    <tr>\n",
       "      <th>63</th>\n",
       "      <td>[{'avatar_src': 'https://assets.skool.com/f/c3...</td>\n",
       "      <td>7</td>\n",
       "      <td>7</td>\n",
       "      <td>(REMOTE | MANHATTAN-BASED STARTUP | GUARANTEED...</td>\n",
       "      <td>I’M HIRING – Full-Stack Voice AI DevOps</td>\n",
       "    </tr>\n",
       "    <tr>\n",
       "      <th>80</th>\n",
       "      <td>[{'avatar_src': 'https://assets.skool.com/f/0d...</td>\n",
       "      <td>1</td>\n",
       "      <td>6</td>\n",
       "      <td>f-strings in Python add a lot of what you can ...</td>\n",
       "      <td>Python f-strings</td>\n",
       "    </tr>\n",
       "    <tr>\n",
       "      <th>99</th>\n",
       "      <td>[]</td>\n",
       "      <td>1</td>\n",
       "      <td>2</td>\n",
       "      <td>Hello everyone, I've been quite occupied and l...</td>\n",
       "      <td>CLASSES</td>\n",
       "    </tr>\n",
       "    <tr>\n",
       "      <th>243</th>\n",
       "      <td>[{'avatar_src': 'https://assets.skool.com/f/80...</td>\n",
       "      <td>11</td>\n",
       "      <td>4</td>\n",
       "      <td>Hey everyone, I'm going to be working on desig...</td>\n",
       "      <td>Website and Portfolios 💻</td>\n",
       "    </tr>\n",
       "    <tr>\n",
       "      <th>124</th>\n",
       "      <td>[]</td>\n",
       "      <td>0</td>\n",
       "      <td>6</td>\n",
       "      <td>https://www.skool.com/coder/classroom/adaee211...</td>\n",
       "      <td>Bootcamp Day 5 Recording</td>\n",
       "    </tr>\n",
       "    <tr>\n",
       "      <th>77</th>\n",
       "      <td>[]</td>\n",
       "      <td>0</td>\n",
       "      <td>4</td>\n",
       "      <td>https://www.skool.com/coder/calendar?eid=d5177...</td>\n",
       "      <td>I'm adding an open hour time starting next week</td>\n",
       "    </tr>\n",
       "    <tr>\n",
       "      <th>225</th>\n",
       "      <td>[]</td>\n",
       "      <td>5</td>\n",
       "      <td>5</td>\n",
       "      <td>Hey everyone. Thank you guys who participated ...</td>\n",
       "      <td>November contest winners 🏆</td>\n",
       "    </tr>\n",
       "  </tbody>\n",
       "</table>\n",
       "</div>"
      ],
      "text/plain": [
       "                                              comments  comments_count  \\\n",
       "121                                                 []               2   \n",
       "175                                                 []               3   \n",
       "128                                                 []               0   \n",
       "63   [{'avatar_src': 'https://assets.skool.com/f/c3...               7   \n",
       "80   [{'avatar_src': 'https://assets.skool.com/f/0d...               1   \n",
       "99                                                  []               1   \n",
       "243  [{'avatar_src': 'https://assets.skool.com/f/80...              11   \n",
       "124                                                 []               0   \n",
       "77                                                  []               0   \n",
       "225                                                 []               5   \n",
       "\n",
       "     likes_count                               post_content_snippet  \\\n",
       "121           11  Hey everyone! This morning I uploaded another ...   \n",
       "175            2  Hey everyone, I'm new here. I'm new to Python ...   \n",
       "128            7  Link for the original announcement: Link Hello...   \n",
       "63             7  (REMOTE | MANHATTAN-BASED STARTUP | GUARANTEED...   \n",
       "80             6  f-strings in Python add a lot of what you can ...   \n",
       "99             2  Hello everyone, I've been quite occupied and l...   \n",
       "243            4  Hey everyone, I'm going to be working on desig...   \n",
       "124            6  https://www.skool.com/coder/classroom/adaee211...   \n",
       "77             4  https://www.skool.com/coder/calendar?eid=d5177...   \n",
       "225            5  Hey everyone. Thank you guys who participated ...   \n",
       "\n",
       "                                            post_title  \n",
       "121     🚀 3 Python Automation Scripts That Save Hours!  \n",
       "175  Need Help: Struggling with Dependency Errors i...  \n",
       "128      Current Challenge: Deep Seek Python Challenge  \n",
       "63             I’M HIRING – Full-Stack Voice AI DevOps  \n",
       "80                                    Python f-strings  \n",
       "99                                             CLASSES  \n",
       "243                           Website and Portfolios 💻  \n",
       "124                           Bootcamp Day 5 Recording  \n",
       "77     I'm adding an open hour time starting next week  \n",
       "225                         November contest winners 🏆  "
      ]
     },
     "execution_count": 150,
     "metadata": {},
     "output_type": "execute_result"
    }
   ],
   "source": [
    "df.sample(10)"
   ]
  },
  {
   "cell_type": "code",
   "execution_count": 151,
   "id": "2a7b3bdf-021a-4479-b61a-9d8ae2fdcafd",
   "metadata": {},
   "outputs": [
    {
     "data": {
      "text/plain": [
       "0                                                     []\n",
       "1                                                     []\n",
       "2                                                     []\n",
       "3                                                     []\n",
       "4                                                     []\n",
       "                             ...                        \n",
       "288                                                   []\n",
       "289    [{'avatar_src': 'https://assets.skool.com/f/80...\n",
       "290                                                   []\n",
       "291                                                   []\n",
       "292                                                   []\n",
       "Name: comments, Length: 293, dtype: object"
      ]
     },
     "execution_count": 151,
     "metadata": {},
     "output_type": "execute_result"
    }
   ],
   "source": [
    "df['comments']"
   ]
  },
  {
   "cell_type": "code",
   "execution_count": 152,
   "id": "ee6d8d19-bc55-408e-93f2-0975bfade962",
   "metadata": {},
   "outputs": [],
   "source": [
    "df['comments'] = df['comments'].apply(lambda x: 0 if len(x) == 2 else 1)"
   ]
  },
  {
   "cell_type": "code",
   "execution_count": 153,
   "id": "890b2c33-00f7-4536-9106-adac121e5485",
   "metadata": {},
   "outputs": [
    {
     "data": {
      "text/plain": [
       "comments\n",
       "1    281\n",
       "0     12\n",
       "Name: count, dtype: int64"
      ]
     },
     "execution_count": 153,
     "metadata": {},
     "output_type": "execute_result"
    }
   ],
   "source": [
    "df['comments'].value_counts()"
   ]
  },
  {
   "cell_type": "code",
   "execution_count": 154,
   "id": "604bc768-6aa9-4f0d-beb8-55376db46700",
   "metadata": {},
   "outputs": [
    {
     "data": {
      "text/plain": [
       "comments_count\n",
       "23     1\n",
       "26     1\n",
       "14     1\n",
       "27     1\n",
       "89     1\n",
       "18     1\n",
       "12     2\n",
       "10     3\n",
       "9      4\n",
       "11     7\n",
       "8     11\n",
       "7     15\n",
       "6     15\n",
       "5     16\n",
       "4     30\n",
       "1     37\n",
       "3     40\n",
       "0     52\n",
       "2     55\n",
       "Name: count, dtype: int64"
      ]
     },
     "execution_count": 154,
     "metadata": {},
     "output_type": "execute_result"
    }
   ],
   "source": [
    "df['comments_count'].value_counts().sort_values()"
   ]
  },
  {
   "cell_type": "code",
   "execution_count": 155,
   "id": "d7f56502-d1a2-479a-8081-f0de96a410df",
   "metadata": {},
   "outputs": [
    {
     "data": {
      "text/plain": [
       "likes_count\n",
       "23     1\n",
       "15     1\n",
       "22     1\n",
       "19     1\n",
       "13     1\n",
       "11     4\n",
       "1      5\n",
       "9      5\n",
       "10     6\n",
       "8     11\n",
       "2     26\n",
       "7     26\n",
       "6     38\n",
       "5     41\n",
       "4     59\n",
       "3     67\n",
       "Name: count, dtype: int64"
      ]
     },
     "execution_count": 155,
     "metadata": {},
     "output_type": "execute_result"
    }
   ],
   "source": [
    "df['likes_count'].value_counts().sort_values()"
   ]
  },
  {
   "cell_type": "code",
   "execution_count": 156,
   "id": "68621ebe-0009-472d-af92-9faf6af06fe6",
   "metadata": {},
   "outputs": [
    {
     "data": {
      "text/html": [
       "<div>\n",
       "<style scoped>\n",
       "    .dataframe tbody tr th:only-of-type {\n",
       "        vertical-align: middle;\n",
       "    }\n",
       "\n",
       "    .dataframe tbody tr th {\n",
       "        vertical-align: top;\n",
       "    }\n",
       "\n",
       "    .dataframe thead th {\n",
       "        text-align: right;\n",
       "    }\n",
       "</style>\n",
       "<table border=\"1\" class=\"dataframe\">\n",
       "  <thead>\n",
       "    <tr style=\"text-align: right;\">\n",
       "      <th></th>\n",
       "      <th>comments</th>\n",
       "      <th>comments_count</th>\n",
       "      <th>likes_count</th>\n",
       "      <th>post_content_snippet</th>\n",
       "      <th>post_title</th>\n",
       "    </tr>\n",
       "  </thead>\n",
       "  <tbody>\n",
       "    <tr>\n",
       "      <th>198</th>\n",
       "      <td>1</td>\n",
       "      <td>23</td>\n",
       "      <td>7</td>\n",
       "      <td>What the title says. Here is the link, I did i...</td>\n",
       "      <td>I made a generative AI to make Drums 🥁</td>\n",
       "    </tr>\n",
       "  </tbody>\n",
       "</table>\n",
       "</div>"
      ],
      "text/plain": [
       "     comments  comments_count  likes_count  \\\n",
       "198         1              23            7   \n",
       "\n",
       "                                  post_content_snippet  \\\n",
       "198  What the title says. Here is the link, I did i...   \n",
       "\n",
       "                                 post_title  \n",
       "198  I made a generative AI to make Drums 🥁  "
      ]
     },
     "execution_count": 156,
     "metadata": {},
     "output_type": "execute_result"
    }
   ],
   "source": [
    "df[df['comments_count'] == 23]"
   ]
  },
  {
   "cell_type": "code",
   "execution_count": 157,
   "id": "0ac9d98c-9653-4c1f-baf3-9c0cde835a06",
   "metadata": {},
   "outputs": [
    {
     "name": "stdout",
     "output_type": "stream",
     "text": [
      "<class 'pandas.core.frame.DataFrame'>\n",
      "RangeIndex: 293 entries, 0 to 292\n",
      "Data columns (total 5 columns):\n",
      " #   Column                Non-Null Count  Dtype \n",
      "---  ------                --------------  ----- \n",
      " 0   comments              293 non-null    int64 \n",
      " 1   comments_count        293 non-null    int64 \n",
      " 2   likes_count           293 non-null    int64 \n",
      " 3   post_content_snippet  293 non-null    object\n",
      " 4   post_title            293 non-null    object\n",
      "dtypes: int64(3), object(2)\n",
      "memory usage: 11.6+ KB\n"
     ]
    }
   ],
   "source": [
    "df.info()"
   ]
  },
  {
   "cell_type": "code",
   "execution_count": 158,
   "id": "c397e26c-2ff3-4ea4-a4d6-2f776322289b",
   "metadata": {},
   "outputs": [],
   "source": [
    "df['engagements'] = df['comments']+df['comments_count']+df['likes_count']"
   ]
  },
  {
   "cell_type": "code",
   "execution_count": 159,
   "id": "c28567bb-0502-4956-b2f0-1c933d3d0e56",
   "metadata": {},
   "outputs": [
    {
     "data": {
      "text/html": [
       "<div>\n",
       "<style scoped>\n",
       "    .dataframe tbody tr th:only-of-type {\n",
       "        vertical-align: middle;\n",
       "    }\n",
       "\n",
       "    .dataframe tbody tr th {\n",
       "        vertical-align: top;\n",
       "    }\n",
       "\n",
       "    .dataframe thead th {\n",
       "        text-align: right;\n",
       "    }\n",
       "</style>\n",
       "<table border=\"1\" class=\"dataframe\">\n",
       "  <thead>\n",
       "    <tr style=\"text-align: right;\">\n",
       "      <th></th>\n",
       "      <th>comments</th>\n",
       "      <th>comments_count</th>\n",
       "      <th>likes_count</th>\n",
       "      <th>post_content_snippet</th>\n",
       "      <th>post_title</th>\n",
       "      <th>engagements</th>\n",
       "    </tr>\n",
       "  </thead>\n",
       "  <tbody>\n",
       "    <tr>\n",
       "      <th>0</th>\n",
       "      <td>1</td>\n",
       "      <td>8</td>\n",
       "      <td>23</td>\n",
       "      <td>💡 Get Started: ✅ Introduce Yourself: Share you...</td>\n",
       "      <td>🚀 Welcome to the Python Developers Community!</td>\n",
       "      <td>32</td>\n",
       "    </tr>\n",
       "    <tr>\n",
       "      <th>1</th>\n",
       "      <td>1</td>\n",
       "      <td>1</td>\n",
       "      <td>2</td>\n",
       "      <td>Hello I'm new here, I hope we get will But I h...</td>\n",
       "      <td>What do I benefit from Python?</td>\n",
       "      <td>4</td>\n",
       "    </tr>\n",
       "    <tr>\n",
       "      <th>2</th>\n",
       "      <td>1</td>\n",
       "      <td>1</td>\n",
       "      <td>2</td>\n",
       "      <td>Hello everybody, I am new here from India, kno...</td>\n",
       "      <td>Introduction</td>\n",
       "      <td>4</td>\n",
       "    </tr>\n",
       "    <tr>\n",
       "      <th>3</th>\n",
       "      <td>1</td>\n",
       "      <td>5</td>\n",
       "      <td>3</td>\n",
       "      <td>I want to learn python, and if you want to hir...</td>\n",
       "      <td>Aspiring Python Developer | Ready to Learn &amp; W...</td>\n",
       "      <td>9</td>\n",
       "    </tr>\n",
       "    <tr>\n",
       "      <th>4</th>\n",
       "      <td>1</td>\n",
       "      <td>4</td>\n",
       "      <td>5</td>\n",
       "      <td>Hey everyone! Does anyone here know about quan...</td>\n",
       "      <td>Quant Research and Finance</td>\n",
       "      <td>10</td>\n",
       "    </tr>\n",
       "  </tbody>\n",
       "</table>\n",
       "</div>"
      ],
      "text/plain": [
       "   comments  comments_count  likes_count  \\\n",
       "0         1               8           23   \n",
       "1         1               1            2   \n",
       "2         1               1            2   \n",
       "3         1               5            3   \n",
       "4         1               4            5   \n",
       "\n",
       "                                post_content_snippet  \\\n",
       "0  💡 Get Started: ✅ Introduce Yourself: Share you...   \n",
       "1  Hello I'm new here, I hope we get will But I h...   \n",
       "2  Hello everybody, I am new here from India, kno...   \n",
       "3  I want to learn python, and if you want to hir...   \n",
       "4  Hey everyone! Does anyone here know about quan...   \n",
       "\n",
       "                                          post_title  engagements  \n",
       "0      🚀 Welcome to the Python Developers Community!           32  \n",
       "1                     What do I benefit from Python?            4  \n",
       "2                                       Introduction            4  \n",
       "3  Aspiring Python Developer | Ready to Learn & W...            9  \n",
       "4                         Quant Research and Finance           10  "
      ]
     },
     "execution_count": 159,
     "metadata": {},
     "output_type": "execute_result"
    }
   ],
   "source": [
    "df.head(\n",
    ")"
   ]
  },
  {
   "cell_type": "code",
   "execution_count": 160,
   "id": "1bcf43ae-5b3c-44a5-91fe-58e8dbbbb4ff",
   "metadata": {},
   "outputs": [
    {
     "data": {
      "text/plain": [
       "<Axes: xlabel='engagements'>"
      ]
     },
     "execution_count": 160,
     "metadata": {},
     "output_type": "execute_result"
    },
    {
     "data": {
      "image/png": "[encoded data removed]",
      "text/plain": [
       "<Figure size 640x480 with 1 Axes>"
      ]
     },
     "metadata": {},
     "output_type": "display_data"
    }
   ],
   "source": [
    "df['engagements'].value_counts().plot(kind='bar')"
   ]
  },
  {
   "cell_type": "code",
   "execution_count": 105,
   "id": "95c8f5de-90a8-47dc-9106-0bb3e8735862",
   "metadata": {},
   "outputs": [],
   "source": [
    "df['post'] = df['post_title'] + df['post_content_snippet']"
   ]
  },
  {
   "cell_type": "code",
   "execution_count": 106,
   "id": "9fe94917-d442-4625-b594-1fc5e3e9c24f",
   "metadata": {},
   "outputs": [
    {
     "data": {
      "text/plain": [
       "0      🚀 Welcome to the Python Developers Community!💡...\n",
       "1      What do I benefit from Python?Hello I'm new he...\n",
       "2      IntroductionHello everybody, I am new here fro...\n",
       "3      Aspiring Python Developer | Ready to Learn & W...\n",
       "4      Quant Research and FinanceHey everyone! Does a...\n",
       "                             ...                        \n",
       "288    PythonPython code! def sum_two_numbers(a, b): ...\n",
       "289    Hello!Hi im Fry I’ve been coding in python for...\n",
       "290    IntroductionHi my name William. I’ve been codi...\n",
       "291    IntroductionHello I’m Mason Broten and I took ...\n",
       "292    🏆 November Contest 🏆The prizes for Novembers c...\n",
       "Name: post, Length: 293, dtype: object"
      ]
     },
     "execution_count": 106,
     "metadata": {},
     "output_type": "execute_result"
    }
   ],
   "source": [
    "df['post']"
   ]
  },
  {
   "cell_type": "code",
   "execution_count": 107,
   "id": "51f4330d-d341-4be3-9235-f3dc3c577703",
   "metadata": {},
   "outputs": [],
   "source": [
    "df.drop(columns=['post_title',\n",
    "'comments','comments_count','likes_count'], inplace = True)"
   ]
  },
  {
   "cell_type": "code",
   "execution_count": 108,
   "id": "c7b4dd90-3020-4899-b4ff-93591b706b0b",
   "metadata": {},
   "outputs": [
    {
     "data": {
      "text/html": [
       "<div>\n",
       "<style scoped>\n",
       "    .dataframe tbody tr th:only-of-type {\n",
       "        vertical-align: middle;\n",
       "    }\n",
       "\n",
       "    .dataframe tbody tr th {\n",
       "        vertical-align: top;\n",
       "    }\n",
       "\n",
       "    .dataframe thead th {\n",
       "        text-align: right;\n",
       "    }\n",
       "</style>\n",
       "<table border=\"1\" class=\"dataframe\">\n",
       "  <thead>\n",
       "    <tr style=\"text-align: right;\">\n",
       "      <th></th>\n",
       "      <th>post_content_snippet</th>\n",
       "      <th>engagements</th>\n",
       "      <th>post</th>\n",
       "    </tr>\n",
       "  </thead>\n",
       "  <tbody>\n",
       "    <tr>\n",
       "      <th>0</th>\n",
       "      <td>💡 Get Started: ✅ Introduce Yourself: Share you...</td>\n",
       "      <td>32</td>\n",
       "      <td>🚀 Welcome to the Python Developers Community!💡...</td>\n",
       "    </tr>\n",
       "    <tr>\n",
       "      <th>1</th>\n",
       "      <td>Hello I'm new here, I hope we get will But I h...</td>\n",
       "      <td>4</td>\n",
       "      <td>What do I benefit from Python?Hello I'm new he...</td>\n",
       "    </tr>\n",
       "    <tr>\n",
       "      <th>2</th>\n",
       "      <td>Hello everybody, I am new here from India, kno...</td>\n",
       "      <td>4</td>\n",
       "      <td>IntroductionHello everybody, I am new here fro...</td>\n",
       "    </tr>\n",
       "    <tr>\n",
       "      <th>3</th>\n",
       "      <td>I want to learn python, and if you want to hir...</td>\n",
       "      <td>9</td>\n",
       "      <td>Aspiring Python Developer | Ready to Learn &amp; W...</td>\n",
       "    </tr>\n",
       "    <tr>\n",
       "      <th>4</th>\n",
       "      <td>Hey everyone! Does anyone here know about quan...</td>\n",
       "      <td>10</td>\n",
       "      <td>Quant Research and FinanceHey everyone! Does a...</td>\n",
       "    </tr>\n",
       "  </tbody>\n",
       "</table>\n",
       "</div>"
      ],
      "text/plain": [
       "                                post_content_snippet  engagements  \\\n",
       "0  💡 Get Started: ✅ Introduce Yourself: Share you...           32   \n",
       "1  Hello I'm new here, I hope we get will But I h...            4   \n",
       "2  Hello everybody, I am new here from India, kno...            4   \n",
       "3  I want to learn python, and if you want to hir...            9   \n",
       "4  Hey everyone! Does anyone here know about quan...           10   \n",
       "\n",
       "                                                post  \n",
       "0  🚀 Welcome to the Python Developers Community!💡...  \n",
       "1  What do I benefit from Python?Hello I'm new he...  \n",
       "2  IntroductionHello everybody, I am new here fro...  \n",
       "3  Aspiring Python Developer | Ready to Learn & W...  \n",
       "4  Quant Research and FinanceHey everyone! Does a...  "
      ]
     },
     "execution_count": 108,
     "metadata": {},
     "output_type": "execute_result"
    }
   ],
   "source": [
    "df.head()"
   ]
  },
  {
   "cell_type": "code",
   "execution_count": 109,
   "id": "f596a11c-d59d-4ffb-98cf-8a6929cd0e79",
   "metadata": {},
   "outputs": [],
   "source": [
    "df.drop(columns = ['post_content_snippet'], inplace = True)"
   ]
  },
  {
   "cell_type": "code",
   "execution_count": 110,
   "id": "3e8f44bb-393b-4e42-80b7-6908b14d6a8a",
   "metadata": {},
   "outputs": [
    {
     "data": {
      "text/html": [
       "<div>\n",
       "<style scoped>\n",
       "    .dataframe tbody tr th:only-of-type {\n",
       "        vertical-align: middle;\n",
       "    }\n",
       "\n",
       "    .dataframe tbody tr th {\n",
       "        vertical-align: top;\n",
       "    }\n",
       "\n",
       "    .dataframe thead th {\n",
       "        text-align: right;\n",
       "    }\n",
       "</style>\n",
       "<table border=\"1\" class=\"dataframe\">\n",
       "  <thead>\n",
       "    <tr style=\"text-align: right;\">\n",
       "      <th></th>\n",
       "      <th>engagements</th>\n",
       "      <th>post</th>\n",
       "    </tr>\n",
       "  </thead>\n",
       "  <tbody>\n",
       "    <tr>\n",
       "      <th>0</th>\n",
       "      <td>32</td>\n",
       "      <td>🚀 Welcome to the Python Developers Community!💡...</td>\n",
       "    </tr>\n",
       "    <tr>\n",
       "      <th>1</th>\n",
       "      <td>4</td>\n",
       "      <td>What do I benefit from Python?Hello I'm new he...</td>\n",
       "    </tr>\n",
       "    <tr>\n",
       "      <th>2</th>\n",
       "      <td>4</td>\n",
       "      <td>IntroductionHello everybody, I am new here fro...</td>\n",
       "    </tr>\n",
       "    <tr>\n",
       "      <th>3</th>\n",
       "      <td>9</td>\n",
       "      <td>Aspiring Python Developer | Ready to Learn &amp; W...</td>\n",
       "    </tr>\n",
       "    <tr>\n",
       "      <th>4</th>\n",
       "      <td>10</td>\n",
       "      <td>Quant Research and FinanceHey everyone! Does a...</td>\n",
       "    </tr>\n",
       "  </tbody>\n",
       "</table>\n",
       "</div>"
      ],
      "text/plain": [
       "   engagements                                               post\n",
       "0           32  🚀 Welcome to the Python Developers Community!💡...\n",
       "1            4  What do I benefit from Python?Hello I'm new he...\n",
       "2            4  IntroductionHello everybody, I am new here fro...\n",
       "3            9  Aspiring Python Developer | Ready to Learn & W...\n",
       "4           10  Quant Research and FinanceHey everyone! Does a..."
      ]
     },
     "execution_count": 110,
     "metadata": {},
     "output_type": "execute_result"
    }
   ],
   "source": [
    "df.head()"
   ]
  },
  {
   "cell_type": "code",
   "execution_count": 112,
   "id": "2cf53eca-9b7e-4cfe-b9f7-e404cdbdce04",
   "metadata": {},
   "outputs": [
    {
     "data": {
      "text/html": [
       "<div>\n",
       "<style scoped>\n",
       "    .dataframe tbody tr th:only-of-type {\n",
       "        vertical-align: middle;\n",
       "    }\n",
       "\n",
       "    .dataframe tbody tr th {\n",
       "        vertical-align: top;\n",
       "    }\n",
       "\n",
       "    .dataframe thead th {\n",
       "        text-align: right;\n",
       "    }\n",
       "</style>\n",
       "<table border=\"1\" class=\"dataframe\">\n",
       "  <thead>\n",
       "    <tr style=\"text-align: right;\">\n",
       "      <th></th>\n",
       "      <th>engagements</th>\n",
       "      <th>post</th>\n",
       "    </tr>\n",
       "  </thead>\n",
       "  <tbody>\n",
       "    <tr>\n",
       "      <th>0</th>\n",
       "      <td>32</td>\n",
       "      <td>🚀 Welcome to the Python Developers Community!💡...</td>\n",
       "    </tr>\n",
       "    <tr>\n",
       "      <th>1</th>\n",
       "      <td>4</td>\n",
       "      <td>What do I benefit from Python?Hello I'm new he...</td>\n",
       "    </tr>\n",
       "    <tr>\n",
       "      <th>2</th>\n",
       "      <td>4</td>\n",
       "      <td>IntroductionHello everybody, I am new here fro...</td>\n",
       "    </tr>\n",
       "    <tr>\n",
       "      <th>3</th>\n",
       "      <td>9</td>\n",
       "      <td>Aspiring Python Developer | Ready to Learn &amp; W...</td>\n",
       "    </tr>\n",
       "    <tr>\n",
       "      <th>4</th>\n",
       "      <td>10</td>\n",
       "      <td>Quant Research and FinanceHey everyone! Does a...</td>\n",
       "    </tr>\n",
       "  </tbody>\n",
       "</table>\n",
       "</div>"
      ],
      "text/plain": [
       "   engagements                                               post\n",
       "0           32  🚀 Welcome to the Python Developers Community!💡...\n",
       "1            4  What do I benefit from Python?Hello I'm new he...\n",
       "2            4  IntroductionHello everybody, I am new here fro...\n",
       "3            9  Aspiring Python Developer | Ready to Learn & W...\n",
       "4           10  Quant Research and FinanceHey everyone! Does a..."
      ]
     },
     "execution_count": 112,
     "metadata": {},
     "output_type": "execute_result"
    }
   ],
   "source": [
    "df.head()"
   ]
  },
  {
   "cell_type": "code",
   "execution_count": 113,
   "id": "eb6001e2-6799-479b-a3c4-48fd9d02ebb6",
   "metadata": {},
   "outputs": [
    {
     "data": {
      "text/html": [
       "<div>\n",
       "<style scoped>\n",
       "    .dataframe tbody tr th:only-of-type {\n",
       "        vertical-align: middle;\n",
       "    }\n",
       "\n",
       "    .dataframe tbody tr th {\n",
       "        vertical-align: top;\n",
       "    }\n",
       "\n",
       "    .dataframe thead th {\n",
       "        text-align: right;\n",
       "    }\n",
       "</style>\n",
       "<table border=\"1\" class=\"dataframe\">\n",
       "  <thead>\n",
       "    <tr style=\"text-align: right;\">\n",
       "      <th></th>\n",
       "      <th>engagements</th>\n",
       "    </tr>\n",
       "  </thead>\n",
       "  <tbody>\n",
       "    <tr>\n",
       "      <th>count</th>\n",
       "      <td>293.000000</td>\n",
       "    </tr>\n",
       "    <tr>\n",
       "      <th>mean</th>\n",
       "      <td>9.668942</td>\n",
       "    </tr>\n",
       "    <tr>\n",
       "      <th>std</th>\n",
       "      <td>8.030526</td>\n",
       "    </tr>\n",
       "    <tr>\n",
       "      <th>min</th>\n",
       "      <td>2.000000</td>\n",
       "    </tr>\n",
       "    <tr>\n",
       "      <th>25%</th>\n",
       "      <td>6.000000</td>\n",
       "    </tr>\n",
       "    <tr>\n",
       "      <th>50%</th>\n",
       "      <td>8.000000</td>\n",
       "    </tr>\n",
       "    <tr>\n",
       "      <th>75%</th>\n",
       "      <td>11.000000</td>\n",
       "    </tr>\n",
       "    <tr>\n",
       "      <th>max</th>\n",
       "      <td>112.000000</td>\n",
       "    </tr>\n",
       "  </tbody>\n",
       "</table>\n",
       "</div>"
      ],
      "text/plain": [
       "       engagements\n",
       "count   293.000000\n",
       "mean      9.668942\n",
       "std       8.030526\n",
       "min       2.000000\n",
       "25%       6.000000\n",
       "50%       8.000000\n",
       "75%      11.000000\n",
       "max     112.000000"
      ]
     },
     "execution_count": 113,
     "metadata": {},
     "output_type": "execute_result"
    }
   ],
   "source": [
    "df.describe()"
   ]
  },
  {
   "cell_type": "code",
   "execution_count": 115,
   "id": "777230a8-0d9f-4a10-b29c-527a30647ab2",
   "metadata": {},
   "outputs": [
    {
     "name": "stderr",
     "output_type": "stream",
     "text": [
      "C:\\conda_temp\\ipykernel_211332\\1770755725.py:1: UserWarning: \n",
      "\n",
      "`distplot` is a deprecated function and will be removed in seaborn v0.14.0.\n",
      "\n",
      "Please adapt your code to use either `displot` (a figure-level function with\n",
      "similar flexibility) or `histplot` (an axes-level function for histograms).\n",
      "\n",
      "For a guide to updating your code to use the new functions, please see\n",
      "https://gist.github.com/mwaskom/de44147ed2974457ad6372750bbe5751\n",
      "\n",
      "  sns.distplot(df['engagements'], kde = True)\n"
     ]
    },
    {
     "data": {
      "text/plain": [
       "<Axes: xlabel='engagements', ylabel='Density'>"
      ]
     },
     "execution_count": 115,
     "metadata": {},
     "output_type": "execute_result"
    },
    {
     "data": {
      "image/png": "[encoded data removed]",
      "text/plain": [
       "<Figure size 640x480 with 1 Axes>"
      ]
     },
     "metadata": {},
     "output_type": "display_data"
    }
   ],
   "source": [
    "sns.distplot(df['engagements'], kde = True)"
   ]
  },
  {
   "cell_type": "code",
   "execution_count": 121,
   "id": "3b251ffb-e234-4f50-b8e0-50301536a0af",
   "metadata": {},
   "outputs": [
    {
     "data": {
      "text/plain": [
       "8.0"
      ]
     },
     "execution_count": 121,
     "metadata": {},
     "output_type": "execute_result"
    }
   ],
   "source": [
    "df['engagements'].median()"
   ]
  },
  {
   "cell_type": "code",
   "execution_count": null,
   "id": "e8bc44ed-1639-4177-b0a6-c4782656f9df",
   "metadata": {},
   "outputs": [],
   "source": []
  },
  {
   "cell_type": "code",
   "execution_count": 125,
   "id": "a417d0e0-376d-45c9-af1b-8cca9bf1095e",
   "metadata": {},
   "outputs": [],
   "source": [
    "threshold = df['engagements'].median()\n",
    "df['label'] = df['engagements'].apply(lambda x: 1 if x > threshold else 0)"
   ]
  },
  {
   "cell_type": "code",
   "execution_count": 126,
   "id": "bac7bfcd-c3d5-4f29-b8bf-10252d1b16a2",
   "metadata": {},
   "outputs": [
    {
     "data": {
      "text/html": [
       "<div>\n",
       "<style scoped>\n",
       "    .dataframe tbody tr th:only-of-type {\n",
       "        vertical-align: middle;\n",
       "    }\n",
       "\n",
       "    .dataframe tbody tr th {\n",
       "        vertical-align: top;\n",
       "    }\n",
       "\n",
       "    .dataframe thead th {\n",
       "        text-align: right;\n",
       "    }\n",
       "</style>\n",
       "<table border=\"1\" class=\"dataframe\">\n",
       "  <thead>\n",
       "    <tr style=\"text-align: right;\">\n",
       "      <th></th>\n",
       "      <th>engagements</th>\n",
       "      <th>post</th>\n",
       "      <th>label</th>\n",
       "    </tr>\n",
       "  </thead>\n",
       "  <tbody>\n",
       "    <tr>\n",
       "      <th>0</th>\n",
       "      <td>32</td>\n",
       "      <td>🚀 Welcome to the Python Developers Community!💡...</td>\n",
       "      <td>1</td>\n",
       "    </tr>\n",
       "    <tr>\n",
       "      <th>1</th>\n",
       "      <td>4</td>\n",
       "      <td>What do I benefit from Python?Hello I'm new he...</td>\n",
       "      <td>0</td>\n",
       "    </tr>\n",
       "    <tr>\n",
       "      <th>2</th>\n",
       "      <td>4</td>\n",
       "      <td>IntroductionHello everybody, I am new here fro...</td>\n",
       "      <td>0</td>\n",
       "    </tr>\n",
       "    <tr>\n",
       "      <th>3</th>\n",
       "      <td>9</td>\n",
       "      <td>Aspiring Python Developer | Ready to Learn &amp; W...</td>\n",
       "      <td>1</td>\n",
       "    </tr>\n",
       "    <tr>\n",
       "      <th>4</th>\n",
       "      <td>10</td>\n",
       "      <td>Quant Research and FinanceHey everyone! Does a...</td>\n",
       "      <td>1</td>\n",
       "    </tr>\n",
       "  </tbody>\n",
       "</table>\n",
       "</div>"
      ],
      "text/plain": [
       "   engagements                                               post  label\n",
       "0           32  🚀 Welcome to the Python Developers Community!💡...      1\n",
       "1            4  What do I benefit from Python?Hello I'm new he...      0\n",
       "2            4  IntroductionHello everybody, I am new here fro...      0\n",
       "3            9  Aspiring Python Developer | Ready to Learn & W...      1\n",
       "4           10  Quant Research and FinanceHey everyone! Does a...      1"
      ]
     },
     "execution_count": 126,
     "metadata": {},
     "output_type": "execute_result"
    }
   ],
   "source": [
    "df.head()"
   ]
  },
  {
   "cell_type": "code",
   "execution_count": 127,
   "id": "aebc217f-c620-46d7-a8cb-135e6ffc5b37",
   "metadata": {},
   "outputs": [
    {
     "data": {
      "text/html": [
       "<div>\n",
       "<style scoped>\n",
       "    .dataframe tbody tr th:only-of-type {\n",
       "        vertical-align: middle;\n",
       "    }\n",
       "\n",
       "    .dataframe tbody tr th {\n",
       "        vertical-align: top;\n",
       "    }\n",
       "\n",
       "    .dataframe thead th {\n",
       "        text-align: right;\n",
       "    }\n",
       "</style>\n",
       "<table border=\"1\" class=\"dataframe\">\n",
       "  <thead>\n",
       "    <tr style=\"text-align: right;\">\n",
       "      <th></th>\n",
       "      <th>post</th>\n",
       "      <th>label</th>\n",
       "    </tr>\n",
       "  </thead>\n",
       "  <tbody>\n",
       "    <tr>\n",
       "      <th>0</th>\n",
       "      <td>🚀 Welcome to the Python Developers Community!💡...</td>\n",
       "      <td>1</td>\n",
       "    </tr>\n",
       "    <tr>\n",
       "      <th>1</th>\n",
       "      <td>What do I benefit from Python?Hello I'm new he...</td>\n",
       "      <td>0</td>\n",
       "    </tr>\n",
       "    <tr>\n",
       "      <th>2</th>\n",
       "      <td>IntroductionHello everybody, I am new here fro...</td>\n",
       "      <td>0</td>\n",
       "    </tr>\n",
       "    <tr>\n",
       "      <th>3</th>\n",
       "      <td>Aspiring Python Developer | Ready to Learn &amp; W...</td>\n",
       "      <td>1</td>\n",
       "    </tr>\n",
       "    <tr>\n",
       "      <th>4</th>\n",
       "      <td>Quant Research and FinanceHey everyone! Does a...</td>\n",
       "      <td>1</td>\n",
       "    </tr>\n",
       "  </tbody>\n",
       "</table>\n",
       "</div>"
      ],
      "text/plain": [
       "                                                post  label\n",
       "0  🚀 Welcome to the Python Developers Community!💡...      1\n",
       "1  What do I benefit from Python?Hello I'm new he...      0\n",
       "2  IntroductionHello everybody, I am new here fro...      0\n",
       "3  Aspiring Python Developer | Ready to Learn & W...      1\n",
       "4  Quant Research and FinanceHey everyone! Does a...      1"
      ]
     },
     "execution_count": 127,
     "metadata": {},
     "output_type": "execute_result"
    }
   ],
   "source": [
    "df.drop(columns = ['engagements'], inplace = True)\n",
    "df.head()"
   ]
  },
  {
   "cell_type": "code",
   "execution_count": 129,
   "id": "53b37ca4-4dfa-4470-98e6-dbee6342eb41",
   "metadata": {},
   "outputs": [],
   "source": [
    "df.to_csv('skool.csv', index=False)"
   ]
  },
  {
   "cell_type": "code",
   "execution_count": null,
   "id": "a475376e-4a13-4116-be9e-b688b4ff6c26",
   "metadata": {},
   "outputs": [],
   "source": []
  }
 ],
 "metadata": {
  "kernelspec": {
   "display_name": "Python 3 (ipykernel)",
   "language": "python",
   "name": "python3"
  },
  "language_info": {
   "codemirror_mode": {
    "name": "ipython",
    "version": 3
   },
   "file_extension": ".py",
   "mimetype": "text/x-python",
   "name": "python",
   "nbconvert_exporter": "python",
   "pygments_lexer": "ipython3",
   "version": "3.12.4"
  }
 },
 "nbformat": 4,
 "nbformat_minor": 5
}
